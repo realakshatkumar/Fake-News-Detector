{
 "cells": [
  {
   "cell_type": "code",
   "execution_count": 1,
   "id": "c803d73e",
   "metadata": {},
   "outputs": [],
   "source": [
    "import numpy as np\n",
    "import re\n",
    "import pandas as pd\n",
    "from nltk.corpus import stopwords\n",
    "from nltk.stem.porter import PorterStemmer\n",
    "from sklearn.feature_extraction.text import TfidfVectorizer\n",
    "from sklearn.model_selection import train_test_split\n",
    "from sklearn.linear_model import LogisticRegression\n",
    "from sklearn.metrics import accuracy_score"
   ]
  },
  {
   "cell_type": "code",
   "execution_count": 2,
   "id": "2ec2c265",
   "metadata": {},
   "outputs": [],
   "source": [
    "news_df = pd.read_csv(\"C:/Users/aksha/Desktop/Fake News Detector/WELFake_Dataset.csv\")"
   ]
  },
  {
   "cell_type": "code",
   "execution_count": 3,
   "id": "244c0ccf",
   "metadata": {},
   "outputs": [
    {
     "data": {
      "text/html": [
       "<div>\n",
       "<style scoped>\n",
       "    .dataframe tbody tr th:only-of-type {\n",
       "        vertical-align: middle;\n",
       "    }\n",
       "\n",
       "    .dataframe tbody tr th {\n",
       "        vertical-align: top;\n",
       "    }\n",
       "\n",
       "    .dataframe thead th {\n",
       "        text-align: right;\n",
       "    }\n",
       "</style>\n",
       "<table border=\"1\" class=\"dataframe\">\n",
       "  <thead>\n",
       "    <tr style=\"text-align: right;\">\n",
       "      <th></th>\n",
       "      <th>Unnamed: 0</th>\n",
       "      <th>title</th>\n",
       "      <th>text</th>\n",
       "      <th>label</th>\n",
       "    </tr>\n",
       "  </thead>\n",
       "  <tbody>\n",
       "    <tr>\n",
       "      <th>0</th>\n",
       "      <td>0</td>\n",
       "      <td>LAW ENFORCEMENT ON HIGH ALERT Following Threat...</td>\n",
       "      <td>No comment is expected from Barack Obama Membe...</td>\n",
       "      <td>1</td>\n",
       "    </tr>\n",
       "    <tr>\n",
       "      <th>1</th>\n",
       "      <td>1</td>\n",
       "      <td>NaN</td>\n",
       "      <td>Did they post their votes for Hillary already?</td>\n",
       "      <td>1</td>\n",
       "    </tr>\n",
       "    <tr>\n",
       "      <th>2</th>\n",
       "      <td>2</td>\n",
       "      <td>UNBELIEVABLE! OBAMA’S ATTORNEY GENERAL SAYS MO...</td>\n",
       "      <td>Now, most of the demonstrators gathered last ...</td>\n",
       "      <td>1</td>\n",
       "    </tr>\n",
       "    <tr>\n",
       "      <th>3</th>\n",
       "      <td>3</td>\n",
       "      <td>Bobby Jindal, raised Hindu, uses story of Chri...</td>\n",
       "      <td>A dozen politically active pastors came here f...</td>\n",
       "      <td>0</td>\n",
       "    </tr>\n",
       "    <tr>\n",
       "      <th>4</th>\n",
       "      <td>4</td>\n",
       "      <td>SATAN 2: Russia unvelis an image of its terrif...</td>\n",
       "      <td>The RS-28 Sarmat missile, dubbed Satan 2, will...</td>\n",
       "      <td>1</td>\n",
       "    </tr>\n",
       "  </tbody>\n",
       "</table>\n",
       "</div>"
      ],
      "text/plain": [
       "   Unnamed: 0                                              title  \\\n",
       "0           0  LAW ENFORCEMENT ON HIGH ALERT Following Threat...   \n",
       "1           1                                                NaN   \n",
       "2           2  UNBELIEVABLE! OBAMA’S ATTORNEY GENERAL SAYS MO...   \n",
       "3           3  Bobby Jindal, raised Hindu, uses story of Chri...   \n",
       "4           4  SATAN 2: Russia unvelis an image of its terrif...   \n",
       "\n",
       "                                                text  label  \n",
       "0  No comment is expected from Barack Obama Membe...      1  \n",
       "1     Did they post their votes for Hillary already?      1  \n",
       "2   Now, most of the demonstrators gathered last ...      1  \n",
       "3  A dozen politically active pastors came here f...      0  \n",
       "4  The RS-28 Sarmat missile, dubbed Satan 2, will...      1  "
      ]
     },
     "execution_count": 3,
     "metadata": {},
     "output_type": "execute_result"
    }
   ],
   "source": [
    "news_df.head()"
   ]
  },
  {
   "cell_type": "code",
   "execution_count": 4,
   "id": "1d81b08f",
   "metadata": {},
   "outputs": [
    {
     "data": {
      "text/plain": [
       "(72134, 4)"
      ]
     },
     "execution_count": 4,
     "metadata": {},
     "output_type": "execute_result"
    }
   ],
   "source": [
    "news_df.shape"
   ]
  },
  {
   "cell_type": "code",
   "execution_count": 5,
   "id": "08496c03",
   "metadata": {},
   "outputs": [
    {
     "data": {
      "text/plain": [
       "Unnamed: 0      0\n",
       "title         558\n",
       "text           39\n",
       "label           0\n",
       "dtype: int64"
      ]
     },
     "execution_count": 5,
     "metadata": {},
     "output_type": "execute_result"
    }
   ],
   "source": [
    "news_df.isna().sum()"
   ]
  },
  {
   "cell_type": "code",
   "execution_count": 6,
   "id": "087a648b",
   "metadata": {},
   "outputs": [
    {
     "name": "stdout",
     "output_type": "stream",
     "text": [
      "Number of null values before dropping: Unnamed: 0      0\n",
      "title         558\n",
      "text           39\n",
      "label           0\n",
      "dtype: int64\n",
      "Number of null values after dropping: Unnamed: 0    0\n",
      "title         0\n",
      "text          0\n",
      "label         0\n",
      "dtype: int64\n"
     ]
    }
   ],
   "source": [
    "\n",
    "print(\"Number of null values before dropping:\", news_df.isna().sum())\n",
    "\n",
    "# Drop rows with any null values\n",
    "news_df.dropna(inplace=True)\n",
    "\n",
    "print(\"Number of null values after dropping:\", news_df.isna().sum())\n"
   ]
  },
  {
   "cell_type": "code",
   "execution_count": 7,
   "id": "4f72d7aa",
   "metadata": {},
   "outputs": [
    {
     "data": {
      "text/plain": [
       "(71537, 4)"
      ]
     },
     "execution_count": 7,
     "metadata": {},
     "output_type": "execute_result"
    }
   ],
   "source": [
    "news_df.shape"
   ]
  },
  {
   "cell_type": "markdown",
   "id": "dcf369fb",
   "metadata": {},
   "source": [
    "# separating the data & label"
   ]
  },
  {
   "cell_type": "code",
   "execution_count": 8,
   "id": "a8b84ffb",
   "metadata": {},
   "outputs": [],
   "source": [
    "X = news_df.drop('label',axis=1)\n",
    "Y = news_df['label']"
   ]
  },
  {
   "cell_type": "code",
   "execution_count": 9,
   "id": "2d48e997",
   "metadata": {},
   "outputs": [
    {
     "name": "stdout",
     "output_type": "stream",
     "text": [
      "       Unnamed: 0                                              title  \\\n",
      "0               0  LAW ENFORCEMENT ON HIGH ALERT Following Threat...   \n",
      "2               2  UNBELIEVABLE! OBAMA’S ATTORNEY GENERAL SAYS MO...   \n",
      "3               3  Bobby Jindal, raised Hindu, uses story of Chri...   \n",
      "4               4  SATAN 2: Russia unvelis an image of its terrif...   \n",
      "5               5  About Time! Christian Group Sues Amazon and SP...   \n",
      "...           ...                                                ...   \n",
      "72129       72129  Russians steal research on Trump in hack of U....   \n",
      "72130       72130   WATCH: Giuliani Demands That Democrats Apolog...   \n",
      "72131       72131  Migrants Refuse To Leave Train At Refugee Camp...   \n",
      "72132       72132  Trump tussle gives unpopular Mexican leader mu...   \n",
      "72133       72133  Goldman Sachs Endorses Hillary Clinton For Pre...   \n",
      "\n",
      "                                                    text  \n",
      "0      No comment is expected from Barack Obama Membe...  \n",
      "2       Now, most of the demonstrators gathered last ...  \n",
      "3      A dozen politically active pastors came here f...  \n",
      "4      The RS-28 Sarmat missile, dubbed Satan 2, will...  \n",
      "5      All we can say on this one is it s about time ...  \n",
      "...                                                  ...  \n",
      "72129  WASHINGTON (Reuters) - Hackers believed to be ...  \n",
      "72130  You know, because in fantasyland Republicans n...  \n",
      "72131  Migrants Refuse To Leave Train At Refugee Camp...  \n",
      "72132  MEXICO CITY (Reuters) - Donald Trump’s combati...  \n",
      "72133  Goldman Sachs Endorses Hillary Clinton For Pre...  \n",
      "\n",
      "[71537 rows x 3 columns]\n"
     ]
    }
   ],
   "source": [
    "print(X)"
   ]
  },
  {
   "cell_type": "markdown",
   "id": "8de3fc24",
   "metadata": {},
   "source": [
    "# Stemming:\n",
    "Stemming is the process of reducing a word to its Root word\n",
    "\n",
    "example: hung hanged hanging ======hang\n",
    "\n",
    "Steps:\n",
    "lower case\n",
    "splitting\n",
    "removing stopwords\n",
    "stemming"
   ]
  },
  {
   "cell_type": "code",
   "execution_count": 10,
   "id": "f76d6756",
   "metadata": {},
   "outputs": [],
   "source": [
    "ps = PorterStemmer()\n",
    "def stemming(title):\n",
    "    stemmed_title = re.sub('[^a-zA-Z]',' ',title)\n",
    "    stemmed_title = stemmed_title.lower()\n",
    "    stemmed_title = stemmed_title.split()\n",
    "    stemmed_title = [ps.stem(word) for word in stemmed_title if not word in stopwords.words('english')]\n",
    "    stemmed_title = ' '.join(stemmed_title)\n",
    "    return stemmed_title"
   ]
  },
  {
   "cell_type": "code",
   "execution_count": 11,
   "id": "65b2f139",
   "metadata": {},
   "outputs": [],
   "source": [
    "news_df['title'] = news_df['title'].apply(stemming)"
   ]
  },
  {
   "cell_type": "code",
   "execution_count": 13,
   "id": "57dc8984",
   "metadata": {},
   "outputs": [
    {
     "data": {
      "text/plain": [
       "0        law enforc high alert follow threat cop white ...\n",
       "2        unbeliev obama attorney gener say charlott rio...\n",
       "3        bobbi jindal rais hindu use stori christian co...\n",
       "4        satan russia unv imag terrifi new supernuk wes...\n",
       "5        time christian group sue amazon splc design ha...\n",
       "                               ...                        \n",
       "72129    russian steal research trump hack u democrat p...\n",
       "72130    watch giuliani demand democrat apolog trump ra...\n",
       "72131         migrant refus leav train refuge camp hungari\n",
       "72132    trump tussl give unpopular mexican leader much...\n",
       "72133           goldman sach endors hillari clinton presid\n",
       "Name: title, Length: 71537, dtype: object"
      ]
     },
     "execution_count": 13,
     "metadata": {},
     "output_type": "execute_result"
    }
   ],
   "source": [
    "news_df['title']"
   ]
  },
  {
   "cell_type": "markdown",
   "id": "c54d91b8",
   "metadata": {},
   "source": [
    "# separating the data and label"
   ]
  },
  {
   "cell_type": "code",
   "execution_count": 14,
   "id": "1cdae965",
   "metadata": {},
   "outputs": [],
   "source": [
    "X = news_df['title'].values\n",
    "Y = news_df['label'].values"
   ]
  },
  {
   "cell_type": "code",
   "execution_count": 15,
   "id": "c6e0dbbf",
   "metadata": {},
   "outputs": [
    {
     "name": "stdout",
     "output_type": "stream",
     "text": [
      "['law enforc high alert follow threat cop white blacklivesmatt fyf terrorist video'\n",
      " 'unbeliev obama attorney gener say charlott rioter peac protest home state north carolina video'\n",
      " 'bobbi jindal rais hindu use stori christian convers woo evangel potenti bid'\n",
      " ... 'migrant refus leav train refuge camp hungari'\n",
      " 'trump tussl give unpopular mexican leader much need shot arm'\n",
      " 'goldman sach endors hillari clinton presid']\n"
     ]
    }
   ],
   "source": [
    "print(X)"
   ]
  },
  {
   "cell_type": "markdown",
   "id": "8e6dda3b",
   "metadata": {},
   "source": [
    "# converting the textual data to numerical data"
   ]
  },
  {
   "cell_type": "code",
   "execution_count": 16,
   "id": "645d81bf",
   "metadata": {},
   "outputs": [],
   "source": [
    "vector = TfidfVectorizer()\n",
    "vector.fit(X)\n",
    "X = vector.transform(X)"
   ]
  },
  {
   "cell_type": "code",
   "execution_count": 17,
   "id": "a789598d",
   "metadata": {},
   "outputs": [
    {
     "name": "stdout",
     "output_type": "stream",
     "text": [
      "  (0, 18956)\t0.19119199199155718\n",
      "  (0, 18504)\t0.12953081995001134\n",
      "  (0, 17225)\t0.25417143325832803\n",
      "  (0, 17122)\t0.24861338779858738\n",
      "  (0, 9620)\t0.2281779531036376\n",
      "  (0, 7816)\t0.2673841297708583\n",
      "  (0, 6667)\t0.4856722738685227\n",
      "  (0, 6364)\t0.2892696681391208\n",
      "  (0, 5456)\t0.31817689197461024\n",
      "  (0, 3641)\t0.24869119486730346\n",
      "  (0, 1780)\t0.334723411455833\n",
      "  (0, 403)\t0.3194027206998875\n",
      "  (1, 18504)\t0.13424895962371275\n",
      "  (1, 17891)\t0.35973057550211296\n",
      "  (1, 16311)\t0.1998676543814105\n",
      "  (1, 14973)\t0.1608430986300803\n",
      "  (1, 14473)\t0.35810711329768474\n",
      "  (1, 13485)\t0.2268087560849422\n",
      "  (1, 12644)\t0.2790489798405972\n",
      "  (1, 11914)\t0.1686662338838085\n",
      "  (1, 11768)\t0.22306828908813514\n",
      "  (1, 7949)\t0.26921648198053316\n",
      "  (1, 6815)\t0.2652110968000934\n",
      "  (1, 2890)\t0.36407357799494927\n",
      "  (1, 2645)\t0.3081355901867282\n",
      "  :\t:\n",
      "  (71533, 1746)\t0.4930846869221777\n",
      "  (71533, 755)\t0.39873664445651247\n",
      "  (71534, 17478)\t0.39738586728341585\n",
      "  (71534, 14075)\t0.35335720051740843\n",
      "  (71534, 14071)\t0.32382708160669216\n",
      "  (71534, 10844)\t0.3553793960965663\n",
      "  (71534, 9673)\t0.338411961415964\n",
      "  (71534, 8133)\t0.46276693634945776\n",
      "  (71534, 2539)\t0.39672254078433306\n",
      "  (71535, 18121)\t0.41791254058468447\n",
      "  (71535, 17763)\t0.46761627232230285\n",
      "  (71535, 17635)\t0.1085011838209181\n",
      "  (71535, 15508)\t0.30540336516283917\n",
      "  (71535, 11522)\t0.2703092054363081\n",
      "  (71535, 11258)\t0.32003867283647125\n",
      "  (71535, 10782)\t0.3272609054161281\n",
      "  (71535, 9652)\t0.2451270711300545\n",
      "  (71535, 6938)\t0.25820139551241134\n",
      "  (71535, 863)\t0.3037986955608001\n",
      "  (71536, 14782)\t0.5566192568051535\n",
      "  (71536, 13323)\t0.28983536135375454\n",
      "  (71536, 7833)\t0.2571511751069808\n",
      "  (71536, 7038)\t0.5411659154579374\n",
      "  (71536, 5447)\t0.4224867705039847\n",
      "  (71536, 3211)\t0.2620841851379093\n"
     ]
    }
   ],
   "source": [
    "print(X)"
   ]
  },
  {
   "cell_type": "markdown",
   "id": "8667d136",
   "metadata": {},
   "source": [
    "# Splitting the dataset to training & test data"
   ]
  },
  {
   "cell_type": "code",
   "execution_count": 20,
   "id": "fc0c58fd",
   "metadata": {},
   "outputs": [],
   "source": [
    "X_train, X_test, Y_train, Y_test = train_test_split(X, Y, test_size = 0.2, stratify=Y, random_state=2)"
   ]
  },
  {
   "cell_type": "code",
   "execution_count": 21,
   "id": "8f06a61a",
   "metadata": {},
   "outputs": [
    {
     "data": {
      "text/plain": [
       "(57229, 19489)"
      ]
     },
     "execution_count": 21,
     "metadata": {},
     "output_type": "execute_result"
    }
   ],
   "source": [
    "X_train.shape"
   ]
  },
  {
   "cell_type": "markdown",
   "id": "6dc8bbe7",
   "metadata": {},
   "source": [
    "# Training the Model: Logistic Regression"
   ]
  },
  {
   "cell_type": "code",
   "execution_count": 22,
   "id": "5d031eff",
   "metadata": {},
   "outputs": [
    {
     "data": {
      "text/html": [
       "<style>#sk-container-id-1 {color: black;background-color: white;}#sk-container-id-1 pre{padding: 0;}#sk-container-id-1 div.sk-toggleable {background-color: white;}#sk-container-id-1 label.sk-toggleable__label {cursor: pointer;display: block;width: 100%;margin-bottom: 0;padding: 0.3em;box-sizing: border-box;text-align: center;}#sk-container-id-1 label.sk-toggleable__label-arrow:before {content: \"▸\";float: left;margin-right: 0.25em;color: #696969;}#sk-container-id-1 label.sk-toggleable__label-arrow:hover:before {color: black;}#sk-container-id-1 div.sk-estimator:hover label.sk-toggleable__label-arrow:before {color: black;}#sk-container-id-1 div.sk-toggleable__content {max-height: 0;max-width: 0;overflow: hidden;text-align: left;background-color: #f0f8ff;}#sk-container-id-1 div.sk-toggleable__content pre {margin: 0.2em;color: black;border-radius: 0.25em;background-color: #f0f8ff;}#sk-container-id-1 input.sk-toggleable__control:checked~div.sk-toggleable__content {max-height: 200px;max-width: 100%;overflow: auto;}#sk-container-id-1 input.sk-toggleable__control:checked~label.sk-toggleable__label-arrow:before {content: \"▾\";}#sk-container-id-1 div.sk-estimator input.sk-toggleable__control:checked~label.sk-toggleable__label {background-color: #d4ebff;}#sk-container-id-1 div.sk-label input.sk-toggleable__control:checked~label.sk-toggleable__label {background-color: #d4ebff;}#sk-container-id-1 input.sk-hidden--visually {border: 0;clip: rect(1px 1px 1px 1px);clip: rect(1px, 1px, 1px, 1px);height: 1px;margin: -1px;overflow: hidden;padding: 0;position: absolute;width: 1px;}#sk-container-id-1 div.sk-estimator {font-family: monospace;background-color: #f0f8ff;border: 1px dotted black;border-radius: 0.25em;box-sizing: border-box;margin-bottom: 0.5em;}#sk-container-id-1 div.sk-estimator:hover {background-color: #d4ebff;}#sk-container-id-1 div.sk-parallel-item::after {content: \"\";width: 100%;border-bottom: 1px solid gray;flex-grow: 1;}#sk-container-id-1 div.sk-label:hover label.sk-toggleable__label {background-color: #d4ebff;}#sk-container-id-1 div.sk-serial::before {content: \"\";position: absolute;border-left: 1px solid gray;box-sizing: border-box;top: 0;bottom: 0;left: 50%;z-index: 0;}#sk-container-id-1 div.sk-serial {display: flex;flex-direction: column;align-items: center;background-color: white;padding-right: 0.2em;padding-left: 0.2em;position: relative;}#sk-container-id-1 div.sk-item {position: relative;z-index: 1;}#sk-container-id-1 div.sk-parallel {display: flex;align-items: stretch;justify-content: center;background-color: white;position: relative;}#sk-container-id-1 div.sk-item::before, #sk-container-id-1 div.sk-parallel-item::before {content: \"\";position: absolute;border-left: 1px solid gray;box-sizing: border-box;top: 0;bottom: 0;left: 50%;z-index: -1;}#sk-container-id-1 div.sk-parallel-item {display: flex;flex-direction: column;z-index: 1;position: relative;background-color: white;}#sk-container-id-1 div.sk-parallel-item:first-child::after {align-self: flex-end;width: 50%;}#sk-container-id-1 div.sk-parallel-item:last-child::after {align-self: flex-start;width: 50%;}#sk-container-id-1 div.sk-parallel-item:only-child::after {width: 0;}#sk-container-id-1 div.sk-dashed-wrapped {border: 1px dashed gray;margin: 0 0.4em 0.5em 0.4em;box-sizing: border-box;padding-bottom: 0.4em;background-color: white;}#sk-container-id-1 div.sk-label label {font-family: monospace;font-weight: bold;display: inline-block;line-height: 1.2em;}#sk-container-id-1 div.sk-label-container {text-align: center;}#sk-container-id-1 div.sk-container {/* jupyter's `normalize.less` sets `[hidden] { display: none; }` but bootstrap.min.css set `[hidden] { display: none !important; }` so we also need the `!important` here to be able to override the default hidden behavior on the sphinx rendered scikit-learn.org. See: https://github.com/scikit-learn/scikit-learn/issues/21755 */display: inline-block !important;position: relative;}#sk-container-id-1 div.sk-text-repr-fallback {display: none;}</style><div id=\"sk-container-id-1\" class=\"sk-top-container\"><div class=\"sk-text-repr-fallback\"><pre>LogisticRegression()</pre><b>In a Jupyter environment, please rerun this cell to show the HTML representation or trust the notebook. <br />On GitHub, the HTML representation is unable to render, please try loading this page with nbviewer.org.</b></div><div class=\"sk-container\" hidden><div class=\"sk-item\"><div class=\"sk-estimator sk-toggleable\"><input class=\"sk-toggleable__control sk-hidden--visually\" id=\"sk-estimator-id-1\" type=\"checkbox\" checked><label for=\"sk-estimator-id-1\" class=\"sk-toggleable__label sk-toggleable__label-arrow\">LogisticRegression</label><div class=\"sk-toggleable__content\"><pre>LogisticRegression()</pre></div></div></div></div></div>"
      ],
      "text/plain": [
       "LogisticRegression()"
      ]
     },
     "execution_count": 22,
     "metadata": {},
     "output_type": "execute_result"
    }
   ],
   "source": [
    "model = LogisticRegression()\n",
    "model.fit(X_train,Y_train)"
   ]
  },
  {
   "cell_type": "code",
   "execution_count": 23,
   "id": "36229eff",
   "metadata": {},
   "outputs": [
    {
     "name": "stdout",
     "output_type": "stream",
     "text": [
      "0.9205123276660434\n"
     ]
    }
   ],
   "source": [
    "# on training set\n",
    "train_y_pred = model.predict(X_train)\n",
    "print(accuracy_score(train_y_pred,Y_train))"
   ]
  },
  {
   "cell_type": "code",
   "execution_count": 24,
   "id": "6453ad20",
   "metadata": {},
   "outputs": [
    {
     "name": "stdout",
     "output_type": "stream",
     "text": [
      "0.9017332960581493\n"
     ]
    }
   ],
   "source": [
    "# on testing set\n",
    "testing_y_pred = model.predict(X_test)\n",
    "print(accuracy_score(testing_y_pred,Y_test))"
   ]
  },
  {
   "cell_type": "markdown",
   "id": "13ef9d27",
   "metadata": {},
   "source": [
    "# Detection System"
   ]
  },
  {
   "cell_type": "code",
   "execution_count": 25,
   "id": "7b8ef7ed",
   "metadata": {},
   "outputs": [],
   "source": [
    "input_data = X_test[10]\n",
    "prediction = model.predict(input_data)"
   ]
  },
  {
   "cell_type": "code",
   "execution_count": 26,
   "id": "11116999",
   "metadata": {},
   "outputs": [
    {
     "name": "stdout",
     "output_type": "stream",
     "text": [
      "The News is Fake\n"
     ]
    }
   ],
   "source": [
    "if prediction[0] == 0:\n",
    "    print('The News Is Real')\n",
    "else:\n",
    "    print('The News is Fake')"
   ]
  },
  {
   "cell_type": "code",
   "execution_count": null,
   "id": "a6b2a678",
   "metadata": {},
   "outputs": [],
   "source": []
  }
 ],
 "metadata": {
  "kernelspec": {
   "display_name": "Python 3 (ipykernel)",
   "language": "python",
   "name": "python3"
  },
  "language_info": {
   "codemirror_mode": {
    "name": "ipython",
    "version": 3
   },
   "file_extension": ".py",
   "mimetype": "text/x-python",
   "name": "python",
   "nbconvert_exporter": "python",
   "pygments_lexer": "ipython3",
   "version": "3.11.2"
  }
 },
 "nbformat": 4,
 "nbformat_minor": 5
}
